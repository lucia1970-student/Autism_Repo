{
  "nbformat": 4,
  "nbformat_minor": 0,
  "metadata": {
    "colab": {
      "provenance": [],
      "authorship_tag": "ABX9TyNLtA40BYZ25YEFuhJFMjLZ",
      "include_colab_link": true
    },
    "kernelspec": {
      "name": "python3",
      "display_name": "Python 3"
    },
    "language_info": {
      "name": "python"
    }
  },
  "cells": [
    {
      "cell_type": "markdown",
      "metadata": {
        "id": "view-in-github",
        "colab_type": "text"
      },
      "source": [
        "<a href=\"https://colab.research.google.com/github/lucia1970-student/Autism_Repo/blob/main/MFCC_extraction.ipynb\" target=\"_parent\"><img src=\"https://colab.research.google.com/assets/colab-badge.svg\" alt=\"Open In Colab\"/></a>"
      ]
    },
    {
      "cell_type": "code",
      "execution_count": 26,
      "metadata": {
        "colab": {
          "base_uri": "https://localhost:8080/"
        },
        "id": "KqBfR0qEcB9C",
        "outputId": "0b8afb01-a2d1-4089-aa18-3b68a439c56e"
      },
      "outputs": [
        {
          "output_type": "stream",
          "name": "stdout",
          "text": [
            "Drive already mounted at /content/drive; to attempt to forcibly remount, call drive.mount(\"/content/drive\", force_remount=True).\n"
          ]
        }
      ],
      "source": [
        "from google.colab import drive\n",
        "drive.mount('/content/drive')"
      ]
    },
    {
      "cell_type": "code",
      "source": [
        "cd /content/drive/MyDrive/Colab\\ Notebooks/cours_python/FSCI2610/projet"
      ],
      "metadata": {
        "colab": {
          "base_uri": "https://localhost:8080/"
        },
        "id": "qpmsDP4Icc8A",
        "outputId": "81080f33-e3d6-41b7-e379-098f2f190dcd"
      },
      "execution_count": 42,
      "outputs": [
        {
          "output_type": "stream",
          "name": "stdout",
          "text": [
            "/content/drive/MyDrive/Colab Notebooks/cours_python/FSCI2610/projet\n"
          ]
        }
      ]
    },
    {
      "cell_type": "code",
      "source": [
        "!pip install --upgrade pip setuptools wheel"
      ],
      "metadata": {
        "colab": {
          "base_uri": "https://localhost:8080/"
        },
        "id": "HKPCB3TrfJOx",
        "outputId": "6de7b5f2-c41c-4abf-f864-c34559977797"
      },
      "execution_count": 28,
      "outputs": [
        {
          "output_type": "stream",
          "name": "stdout",
          "text": [
            "Requirement already satisfied: pip in /usr/local/lib/python3.11/dist-packages (25.0.1)\n",
            "Requirement already satisfied: setuptools in /usr/local/lib/python3.11/dist-packages (76.0.0)\n",
            "Requirement already satisfied: wheel in /usr/local/lib/python3.11/dist-packages (0.45.1)\n"
          ]
        }
      ]
    },
    {
      "cell_type": "code",
      "source": [
        "!pip install praat-parselmouth"
      ],
      "metadata": {
        "colab": {
          "base_uri": "https://localhost:8080/"
        },
        "id": "yYyYGjKFejX7",
        "outputId": "450a08e5-70b1-4f3f-e056-64b3ba7e03d0"
      },
      "execution_count": 30,
      "outputs": [
        {
          "output_type": "stream",
          "name": "stdout",
          "text": [
            "Collecting praat-parselmouth\n",
            "  Downloading praat_parselmouth-0.4.5-cp311-cp311-manylinux_2_17_x86_64.manylinux2014_x86_64.whl.metadata (2.9 kB)\n",
            "Requirement already satisfied: numpy>=1.7.0 in /usr/local/lib/python3.11/dist-packages (from praat-parselmouth) (1.26.4)\n",
            "Downloading praat_parselmouth-0.4.5-cp311-cp311-manylinux_2_17_x86_64.manylinux2014_x86_64.whl (10.8 MB)\n",
            "\u001b[2K   \u001b[90m━━━━━━━━━━━━━━━━━━━━━━━━━━━━━━━━━━━━━━━━\u001b[0m \u001b[32m10.8/10.8 MB\u001b[0m \u001b[31m71.9 MB/s\u001b[0m eta \u001b[36m0:00:00\u001b[0m\n",
            "\u001b[?25hInstalling collected packages: praat-parselmouth\n",
            "Successfully installed praat-parselmouth-0.4.5\n"
          ]
        }
      ]
    },
    {
      "cell_type": "code",
      "source": [
        "import librosa\n",
        "import numpy as np\n",
        "import parselmouth\n",
        "from scipy.stats import variation\n",
        "\n",
        "# Load the audio file\n",
        "def load_audio(file_path):\n",
        "    y, sr = librosa.load(file_path, sr=None)\n",
        "    return y, sr\n",
        "\n",
        "# Compute MFCC features\n",
        "def compute_mfcc(y, sr, n_mfcc=13):\n",
        "    mfcc = librosa.feature.mfcc(y=y, sr=sr, n_mfcc=n_mfcc)\n",
        "    return mfcc\n",
        "\n",
        "# Compute F0 (fundamental frequency) using Parselmouth (Praat wrapper)\n",
        "def compute_f0(file_path):\n",
        "    sound = parselmouth.Sound(file_path)\n",
        "    pitch = sound.to_pitch()\n",
        "    f0 = pitch.selected_array['frequency']\n",
        "    f0 = f0[f0 > 0]  # Remove zero or negative values\n",
        "    return f0\n",
        "\n",
        "# Compute Jitter (F0 variation)\n",
        "def compute_jitter(f0):\n",
        "    # Jitter is the variation in F0, measured as the relative standard deviation\n",
        "    jitter = variation(f0) if len(f0) > 1 else 0\n",
        "    return jitter\n",
        "\n",
        "# Compute Shimmer (Amplitude variation)\n",
        "def compute_shimmer(y):\n",
        "    # Calculate short-term energy (amplitude variation)\n",
        "    frame_length = 2048\n",
        "    hop_length = 512\n",
        "    energy = librosa.feature.rms(y=y, frame_length=frame_length, hop_length=hop_length)\n",
        "\n",
        "    # Compute the variation of energy\n",
        "    shimmer = variation(energy.flatten()) if len(energy.flatten()) > 1 else 0\n",
        "    return shimmer\n",
        "\n",
        "# Compute HNR (Harmonics-to-Noise Ratio)\n",
        "def compute_hnr(file_path):\n",
        "    sound = parselmouth.Sound(file_path)\n",
        "    pitch = sound.to_pitch()\n",
        "    harmonicity = sound.to_harmonicity()\n",
        "\n",
        "    # HNR is the ratio of harmonic to noise components\n",
        "    hnr = harmonicity.values.T\n",
        "    return np.mean(hnr[hnr > 0])  # Only consider positive HNR values\n",
        "\n",
        "# Main function to compute all features\n",
        "def compute_voice_features(file_path):\n",
        "    # Load the audio file\n",
        "    y, sr = load_audio(file_path)\n",
        "\n",
        "    # Compute MFCCs\n",
        "    mfcc = compute_mfcc(y, sr)\n",
        "\n",
        "    # Compute F0\n",
        "    f0 = compute_f0(file_path)\n",
        "\n",
        "    # Compute Jitter\n",
        "    jitter = compute_jitter(f0)\n",
        "\n",
        "    # Compute Shimmer\n",
        "    shimmer = compute_shimmer(y)\n",
        "\n",
        "    # Compute HNR\n",
        "    hnr = compute_hnr(file_path)\n",
        "\n",
        "    # Results\n",
        "    features = {\n",
        "        'MFCC': mfcc,\n",
        "        'F0': f0,\n",
        "        'Jitter': jitter,\n",
        "        'Shimmer': shimmer,\n",
        "        'HNR': hnr\n",
        "    }\n",
        "\n",
        "    return features\n",
        "\n",
        "file_path = './wav/voice_samples/Normal_Voice.wav'\n",
        "features = compute_voice_features(file_path)\n",
        "\n",
        "# Print features\n",
        "print(\"MFCCs:\", features['MFCC'].shape)\n",
        "print(\"Means F0 (Fundamental Frequency):\", np.mean(features['F0']))\n",
        "print(\"Jitter:\", features['Jitter'])\n",
        "print(\"Shimmer:\", features['Shimmer'])\n",
        "print(\"HNR:\", features['HNR'])\n"
      ],
      "metadata": {
        "colab": {
          "base_uri": "https://localhost:8080/"
        },
        "id": "D7Niy97aeTZK",
        "outputId": "d47b5978-65b7-4544-e084-80d4491c99b0"
      },
      "execution_count": 37,
      "outputs": [
        {
          "output_type": "stream",
          "name": "stdout",
          "text": [
            "MFCCs: (13, 2712)\n",
            "Means F0 (Fundamental Frequency): 212.45936758708945\n",
            "Jitter: 0.2010853914661789\n",
            "Shimmer: 0.8738553\n",
            "HNR: 14.17612320806539\n"
          ]
        }
      ]
    }
  ]
}