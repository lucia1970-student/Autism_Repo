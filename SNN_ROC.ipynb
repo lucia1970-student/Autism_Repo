{
  "cells": [
    {
      "cell_type": "markdown",
      "metadata": {
        "id": "view-in-github",
        "colab_type": "text"
      },
      "source": [
        "<a href=\"https://colab.research.google.com/github/lucia1970-student/Autism_Repo/blob/main/SNN_ROC.ipynb\" target=\"_parent\"><img src=\"https://colab.research.google.com/assets/colab-badge.svg\" alt=\"Open In Colab\"/></a>"
      ]
    },
    {
      "cell_type": "code",
      "source": [
        "from google.colab import drive\n",
        "drive.mount('/content/drive')"
      ],
      "metadata": {
        "colab": {
          "base_uri": "https://localhost:8080/"
        },
        "id": "Oxu9rJzQwoBL",
        "outputId": "0f096ae8-fc56-4fc6-9fbc-90d41558ec7a"
      },
      "execution_count": 1,
      "outputs": [
        {
          "output_type": "stream",
          "name": "stdout",
          "text": [
            "Mounted at /content/drive\n"
          ]
        }
      ]
    },
    {
      "cell_type": "code",
      "execution_count": 2,
      "metadata": {
        "colab": {
          "base_uri": "https://localhost:8080/"
        },
        "id": "TCCZxwfko-1H",
        "outputId": "ccb79b71-ea11-45f3-e620-1554f7478e53"
      },
      "outputs": [
        {
          "output_type": "stream",
          "name": "stdout",
          "text": [
            "/content/drive/MyDrive/Colab Notebooks/cours_python/FSCI2610/projet\n"
          ]
        }
      ],
      "source": [
        "cd /content/drive/MyDrive/Colab Notebooks/cours_python/FSCI2610/projet"
      ]
    },
    {
      "cell_type": "code",
      "execution_count": 8,
      "metadata": {
        "colab": {
          "base_uri": "https://localhost:8080/"
        },
        "id": "k2JZFC_1o8Dy",
        "outputId": "75673b0c-8536-4d9a-8de5-3d912036c620"
      },
      "outputs": [
        {
          "output_type": "stream",
          "name": "stdout",
          "text": [
            "CTRL count without TD (24):  70\n",
            "ASD count:  38\n"
          ]
        },
        {
          "output_type": "execute_result",
          "data": {
            "text/plain": [
              "array(['ASD', 'SLI', 'IC', 'TD'], dtype=object)"
            ]
          },
          "metadata": {},
          "execution_count": 8
        }
      ],
      "source": [
        "#Autism prognosis using voice biomarkers.\n",
        "\n",
        "#Dataset from study below.  Available on request.\n",
        "# https://www.nature.com/articles/s41398-023-02554-8#Fig2\n",
        "\n",
        "#I am proposing ALL characteristics of voice biomarkers (19) and 2 target\n",
        "#classes (CTRL (no TD) and ASD) in order to classify data.\n",
        "#The purpose of this iteration is to validate the study results.\n",
        "#The validation steps are detailed below:\n",
        "\n",
        "#1. Selecting ALL characteristicss and 2 classes ('ASD' and 'TD') as per study's\n",
        "#identified characteristics and classes.  The 19 characteristics have been ranked\n",
        "# with Recursive Feature Elimination (RFE).  No characteristics were eliminated at\n",
        "# this stage.\n",
        "\n",
        "#2. Applied feature rankings and applied  dimension reduction with RFE and PCA.\n",
        "# PCA components = 4 @ 99% coverage.  84 rows out 108, no rows were eliminated.\n",
        "\n",
        "#3. Split dataset into train/test (70%/30%) and apply a Simple Neural Network\n",
        "#with ROC scoring including optimal threshold.\n",
        "\n",
        "#4 Plot the ROC_AUC curve with optimal threshold.\n",
        "\n",
        "#5.Plot confusion matrix displaying\n",
        "\n",
        "import numpy as np\n",
        "\n",
        "#Load data.\n",
        "import pandas as pd\n",
        "df=pd.read_csv(\"voice_data.csv\")\n",
        "data=df.copy()\n",
        "display.max_columns = None\n",
        "display.nax_rows = None\n",
        "#display(data)\n",
        "#display(data.columns)\n",
        "\n",
        "a = np.count_nonzero(data.Group == 'TD')\n",
        "b = td_count = np.count_nonzero(data.Group == 'IC')\n",
        "c = td_count = np.count_nonzero(data.Group == 'SLI')\n",
        "d = np.count_nonzero(data.Group == 'ASD')\n",
        "z = a + b + c\n",
        "print('CTRL count without TD (24): ', z)\n",
        "print('ASD count: ', d)\n",
        "#display(data.value_counts())\n",
        "data.Group.unique()\n"
      ]
    },
    {
      "cell_type": "code",
      "source": [
        "from sklearn.preprocessing import StandardScaler, LabelBinarizer\n",
        "import pandas as pd\n",
        "\n",
        "ss = StandardScaler()\n",
        "lb = LabelBinarizer()\n",
        "\n",
        "# Create a copy of the DataFrame before filtering and modifying it\n",
        "df_filtered = df[df['Group'] != 'TD'].copy()\n",
        "\n",
        "# Modified line to fix the error: using isin instead of '|'\n",
        "ctrl_group = df_filtered.loc[df_filtered['Group'].isin(['SLI', 'IC'])] # Use isin to check for membership in a list\n",
        "\n",
        "ctrl_group.loc[:, 'Group'] = 'CTRL'\n",
        "asd_group = df_filtered.loc[(df_filtered['Group'] == 'ASD')]\n",
        "y = pd.concat([ctrl_group, asd_group]).Group\n",
        "y = lb.fit_transform(y).ravel()\n",
        "\n",
        "X = df_filtered.loc[:, ['avg_F1', 'shimmer', 'jitter_s', 'mean_hnr']]\n",
        "X = ss.fit_transform(X)\n",
        "\n",
        "X,y\n"
      ],
      "metadata": {
        "colab": {
          "base_uri": "https://localhost:8080/"
        },
        "id": "hwm_sxeNgBoj",
        "outputId": "6dc0664e-7cf6-47b2-87d9-3f853c88cd07"
      },
      "execution_count": 33,
      "outputs": [
        {
          "output_type": "execute_result",
          "data": {
            "text/plain": [
              "(array([[-0.36394851,  0.27568823,  0.37323209,  0.02947773],\n",
              "        [-1.19035528,  0.3345345 , -0.49527867,  0.67542447],\n",
              "        [ 0.39974309, -0.66961117, -0.27642553,  0.95533472],\n",
              "        [-1.26668861,  1.59602889, -1.18798763, -0.87484771],\n",
              "        [-0.6381034 ,  1.09725576,  0.30135185, -1.02556861],\n",
              "        [-0.55173565,  0.17480043, -0.62107013,  0.58929824],\n",
              "        [-0.78037725,  1.18223517, -0.74552725, -0.61646901],\n",
              "        [-1.03123793,  0.67623796, -1.61492849,  0.26632487],\n",
              "        [-0.35463083,  0.95144609, -0.22975611, -0.59493745],\n",
              "        [-0.39441017,  1.85102946, -0.26710517, -0.93944238],\n",
              "        [-1.86839588,  0.52931139, -0.49261682,  0.56776668],\n",
              "        [-0.63057758,  2.00640313, -0.53342044, -1.71457847],\n",
              "        [-1.43512364,  1.7444371 , -1.84093497, -0.48727966],\n",
              "        [-1.14699222,  1.18529335, -0.883616  , -0.46574811],\n",
              "        [-0.94487018,  0.75657469, -1.00713721,  0.11560396],\n",
              "        [-0.35463083, -0.59340286, -0.33726704,  0.82614537],\n",
              "        [-1.26310488,  0.77909775,  0.07066782, -0.59493745],\n",
              "        [-1.00543512,  1.53492835, -1.15599362, -0.65953213],\n",
              "        [-0.16612694,  1.03602805,  1.10157039, -0.14277474],\n",
              "        [-0.33312848,  0.05355002, -0.9029601 ,  0.24479331],\n",
              "        [ 0.50438783,  0.33451368, -0.19158217, -0.37962187],\n",
              "        [-1.37921754, -0.39938748, -0.21554413,  2.03191262],\n",
              "        [-0.1302897 , -1.09703772, -0.80068117,  2.13957041],\n",
              "        [ 1.14229072,  1.38336498,  1.27536419, -2.48971455],\n",
              "        [ 0.5878886 ,  1.11883275, -0.05221049,  0.46010889],\n",
              "        [-0.84810963,  0.29943706,  0.39159737,  0.43857733],\n",
              "        [-1.32797029,  1.30222692, -0.56246297, -0.7241268 ],\n",
              "        [-0.30732567,  0.14585333, -0.35170156, -0.09971162],\n",
              "        [ 1.80205432, -0.12951636, -1.67154934, -0.59493745],\n",
              "        [ 0.02739416,  0.53659622, -0.98803916, -0.37962187],\n",
              "        [-0.26754633,  0.47087293,  0.11091518,  0.74001914],\n",
              "        [ 1.65046279,  1.17932936,  0.83348115, -1.90836249],\n",
              "        [ 0.46890896, -0.19621196,  0.2536494 , -0.20736941],\n",
              "        [-0.0783257 ,  1.12344372,  1.64579771, -1.34854198],\n",
              "        [-0.42845554,  0.17645471,  1.12030345,  1.45056055],\n",
              "        [-1.75013298, -0.45441489, -0.40004703,  1.88119171],\n",
              "        [ 0.15318287,  0.84367659, -1.76774974,  0.02947773],\n",
              "        [ 2.12745647,  2.56748894, -0.44122096, -0.9825055 ],\n",
              "        [ 0.00911716,  0.06146734,  0.14737826, -0.33655876],\n",
              "        [ 0.2671453 , -0.60745337,  1.72811589, -0.18583785],\n",
              "        [ 0.11698726, -1.45140932,  0.11790715,  0.41704577],\n",
              "        [ 1.44189005, -1.53131385, -0.01698654, -0.22890097],\n",
              "        [ 0.33236908, -0.02528371,  0.33141528, -1.04710017],\n",
              "        [ 1.23690103,  0.88753947,  0.60893893,  1.12758718],\n",
              "        [-0.63308619, -0.24177019, -0.64502143,  1.21371342],\n",
              "        [-0.42415508, -1.07983178, -0.11096356,  1.49362367],\n",
              "        [ 0.23525015, -0.9052765 ,  2.62773283,  1.68740769],\n",
              "        [-0.65566365,  1.14295024,  0.8162104 , -0.96097394],\n",
              "        [ 1.13046443, -1.50259056,  1.84535017,  0.89074005],\n",
              "        [-0.4212881 , -0.40425996,  0.0562657 ,  1.81659704],\n",
              "        [ 2.30198383, -0.71069401,  1.0117076 , -0.22890097],\n",
              "        [ 0.87422816, -1.08642104, -0.7672933 , -0.37962187],\n",
              "        [-0.8914727 , -0.30619752,  1.60848212,  0.7615507 ],\n",
              "        [ 3.13197432, -1.06249549,  1.82353776, -0.70259524],\n",
              "        [ 0.36892306,  0.87319958,  1.02108738, -1.58538912],\n",
              "        [ 1.97263959, -0.15700404, -0.35926016, -1.71457847],\n",
              "        [ 0.06358977,  0.4103996 , -1.0871053 ,  0.22326175],\n",
              "        [ 0.10444423,  0.00435887, -0.64704853, -0.0566485 ],\n",
              "        [-0.06578267, -1.93337537,  0.07123654,  1.19218186],\n",
              "        [-0.8395087 , -0.84702853, -0.52735121,  0.93380316],\n",
              "        [ 1.22149102, -0.35498324, -0.7615939 , -0.78872147],\n",
              "        [-0.25141958, -0.59873444,  0.66094767,  0.30938798],\n",
              "        [-0.10663712, -2.48601329,  0.51565011,  2.52713845],\n",
              "        [ 1.00467571,  0.54495428, -0.68148332, -1.82223626],\n",
              "        [-0.60800012, -1.21171143, -0.46983528,  0.65389291],\n",
              "        [ 2.3231278 ,  0.46985943, -0.27352638, -0.83178459],\n",
              "        [-0.12849784,  0.15401294, -0.77301221, -0.55187434],\n",
              "        [ 1.02868666, -0.95444539, -0.72302103, -0.33655876],\n",
              "        [ 0.41981194, -0.2426122 ,  2.17179672, -1.21935263],\n",
              "        [-0.29442426, -0.38244548, -0.52621856, -0.85331615],\n",
              "        [-0.29191566, -1.09160375, -1.64713467,  1.79506548],\n",
              "        [ 0.12343796, -0.17914497,  2.92976225, -0.25043253],\n",
              "        [-1.05417377,  0.55308966, -0.16009301,  0.07254084],\n",
              "        [-0.31520986, -1.48166645,  0.57176759,  0.48164045],\n",
              "        [ 0.46030803, -0.66619921,  0.64920059, -0.03511695],\n",
              "        [-0.65458853, -0.49874085,  0.44895139,  0.63236135],\n",
              "        [ 0.82333927, -1.0882788 , -0.90237629,  0.63236135],\n",
              "        [-0.78611121, -0.48396324,  0.35785316,  0.63236135],\n",
              "        [-0.34818013, -1.08256216, -0.67372972, -0.55187434],\n",
              "        [ 1.57269598,  0.16005392, -0.32107334, -0.87484771],\n",
              "        [-0.33492035, -1.81733935, -0.65100485,  0.13713552],\n",
              "        [-0.41125367, -0.89914562,  1.89686863, -0.14277474],\n",
              "        [-1.04736469, -1.32642351, -0.36712894,  0.61082979],\n",
              "        [ 1.37164906, -0.27085578,  1.63098071, -0.76718992]]),\n",
              " array([1, 1, 1, 1, 1, 1, 1, 1, 1, 1, 1, 1, 1, 1, 1, 1, 1, 1, 1, 1, 1, 1,\n",
              "        1, 1, 1, 1, 1, 1, 1, 1, 1, 1, 1, 1, 1, 1, 1, 1, 1, 1, 1, 1, 1, 1,\n",
              "        1, 1, 0, 0, 0, 0, 0, 0, 0, 0, 0, 0, 0, 0, 0, 0, 0, 0, 0, 0, 0, 0,\n",
              "        0, 0, 0, 0, 0, 0, 0, 0, 0, 0, 0, 0, 0, 0, 0, 0, 0, 0]))"
            ]
          },
          "metadata": {},
          "execution_count": 33
        }
      ]
    },
    {
      "cell_type": "code",
      "source": [
        "import numpy as np\n",
        "from sklearn.decomposition import PCA\n",
        "\n",
        "pca.n_components = 4\n",
        "X = pca.fit_transform(X)\n",
        "print(\"Explained Variance Ratio: \", sum(pca.explained_variance_ratio_))\n",
        "display(len(X))"
      ],
      "metadata": {
        "colab": {
          "base_uri": "https://localhost:8080/",
          "height": 53
        },
        "outputId": "608ae1f1-894c-45ac-cbbe-4ec47e7163c5",
        "id": "xMcnZy-KWTB_"
      },
      "execution_count": 36,
      "outputs": [
        {
          "output_type": "stream",
          "name": "stdout",
          "text": [
            "Explained Variance Ratio:  0.9999999999999999\n"
          ]
        },
        {
          "output_type": "display_data",
          "data": {
            "text/plain": [
              "84"
            ]
          },
          "metadata": {}
        }
      ]
    },
    {
      "cell_type": "code",
      "source": [
        "import torch\n",
        "import torch.nn as nn\n",
        "import torch.optim as optim\n",
        "import numpy as np\n",
        "import matplotlib.pyplot as plt\n",
        "import seaborn as sns\n",
        "from sklearn.metrics import roc_curve, auc, confusion_matrix\n",
        "from sklearn.datasets import make_classification\n",
        "from sklearn.model_selection import train_test_split\n",
        "\n",
        "# Split into Train & Test\n",
        "X_train, X_test, y_train, y_test = train_test_split(X, y, test_size=0.3)\n",
        "\n",
        "# Convert to PyTorch Tensors\n",
        "X_train_tensor = torch.tensor(X_train, dtype=torch.float32)\n",
        "X_test_tensor = torch.tensor(X_test, dtype=torch.float32)\n",
        "\n",
        "y_train_tensor = torch.tensor(y_train, dtype=torch.float32).unsqueeze(1)\n",
        "y_test_tensor = torch.tensor(y_test, dtype=torch.float32).unsqueeze(1)\n",
        "\n",
        "# ---- Define Neural Network ---- #\n",
        "class SimpleNN(nn.Module):\n",
        "    def __init__(self, input_size):\n",
        "        super(SimpleNN, self).__init__()\n",
        "        self.fc1 = nn.Linear(input_size, 16)\n",
        "        self.relu = nn.ReLU()\n",
        "        self.fc2 = nn.Linear(16, 1)\n",
        "        self.sigmoid = nn.Sigmoid()\n",
        "\n",
        "    def forward(self, x):\n",
        "        x = self.fc1(x)\n",
        "        x = self.relu(x)\n",
        "        x = self.fc2(x)\n",
        "        return self.sigmoid(x)  # Probability output\n",
        "\n",
        "# Initialize Model\n",
        "model = SimpleNN(input_size=X_train.shape[1])  # Use the correct input size based on the X data\n",
        "criterion = nn.BCELoss()  # Binary Cross-Entropy Loss\n",
        "optimizer = optim.Adam(model.parameters(), lr=0.001)\n",
        "\n",
        "# ---- Train the Model ---- #\n",
        "num_epochs = 100\n",
        "for epoch in range(num_epochs):\n",
        "    model.train()\n",
        "    optimizer.zero_grad()\n",
        "    y_pred = model(X_train_tensor)\n",
        "    loss = criterion(y_pred, y_train_tensor)\n",
        "    loss.backward()\n",
        "    optimizer.step()\n",
        "\n",
        "    if (epoch+1) % 5 == 0:\n",
        "        print(f'Epoch [{epoch+1}/{num_epochs}], Loss: {loss.item():.4f}')\n",
        "\n",
        "# ---- Evaluate & Compute Metrics ---- #\n",
        "model.eval()\n",
        "with torch.no_grad():\n",
        "    y_scores = model(X_test_tensor).numpy().flatten()  # Predicted probabilities\n",
        "    y_true = y_test_tensor.numpy().flatten()\n",
        "\n",
        "# ---- Compute ROC & Find Optimal Threshold ---- #\n",
        "fpr, tpr, thresholds = roc_curve(y_true, y_scores)\n",
        "roc_auc = auc(fpr, tpr)\n",
        "\n",
        "# Find Best Threshold using Youden’s J-Index (maximizing (TPR - FPR))\n",
        "optimal_idx = np.argmax(tpr - fpr)\n",
        "optimal_threshold = thresholds[optimal_idx]\n",
        "\n",
        "print(f\"Optimal Threshold (Youden's J-Index): {optimal_threshold:.4f}\")\n",
        "\n",
        "# ---- Compare Confusion Matrices for Different Thresholds ---- #\n",
        "thresholds_to_test = [optimal_threshold]  # Test different thresholds\n",
        "\n",
        "for threshold in thresholds_to_test:\n",
        "    y_preds = (y_scores >= threshold).astype(int)\n",
        "    tn, fp, fn, tp = confusion_matrix(y_true, y_preds).ravel()\n",
        "\n",
        "    print(f\"\\nThreshold: {threshold:.2f}\")\n",
        "    print(f\"TP: {tp}, FP: {fp}, FN: {fn}, TN: {tn}\")\n",
        "\n",
        "    plt.figure(figsize=(5,4))\n",
        "    sns.heatmap([[tn, fp], [fn, tp]], annot=True, fmt=\"d\", cmap=\"Blues\",\n",
        "                xticklabels=[\"Predicted 0\", \"Predicted 1\"],\n",
        "                yticklabels=[\"Actual 0\", \"Actual 1\"])\n",
        "    plt.xlabel(\"Predicted Label\")\n",
        "    plt.ylabel(\"Actual Label\")\n",
        "    plt.title(f\"Confusion Matrix (Threshold = {threshold:.2f})\")\n",
        "    plt.show()\n",
        "\n",
        "# ---- Plot ROC Curve ---- #\n",
        "plt.figure(figsize=(6,5))\n",
        "plt.plot(fpr, tpr, color=\"blue\", lw=2, label=f'ROC Curve (AUC = {roc_auc:.2f})')\n",
        "plt.plot([0, 1], [0, 1], color=\"gray\", linestyle=\"--\")  # Random classifier line\n",
        "plt.scatter(fpr[optimal_idx], tpr[optimal_idx], color='red', label=\"Optimal Threshold\")\n",
        "plt.xlabel(\"False Positive Rate\")\n",
        "plt.ylabel(\"True Positive Rate\")\n",
        "plt.title(\"Neural Network ROC Curve\")\n",
        "plt.legend()\n",
        "plt.show"
      ],
      "metadata": {
        "colab": {
          "base_uri": "https://localhost:8080/",
          "height": 1000
        },
        "id": "-AY2_ZYKp28A",
        "outputId": "76040518-7550-4941-b91f-12134e6162e4"
      },
      "execution_count": 51,
      "outputs": [
        {
          "output_type": "stream",
          "name": "stdout",
          "text": [
            "Epoch [5/100], Loss: 0.6385\n",
            "Epoch [10/100], Loss: 0.6319\n",
            "Epoch [15/100], Loss: 0.6255\n",
            "Epoch [20/100], Loss: 0.6193\n",
            "Epoch [25/100], Loss: 0.6132\n",
            "Epoch [30/100], Loss: 0.6071\n",
            "Epoch [35/100], Loss: 0.6011\n",
            "Epoch [40/100], Loss: 0.5952\n",
            "Epoch [45/100], Loss: 0.5893\n",
            "Epoch [50/100], Loss: 0.5835\n",
            "Epoch [55/100], Loss: 0.5778\n",
            "Epoch [60/100], Loss: 0.5722\n",
            "Epoch [65/100], Loss: 0.5665\n",
            "Epoch [70/100], Loss: 0.5608\n",
            "Epoch [75/100], Loss: 0.5552\n",
            "Epoch [80/100], Loss: 0.5496\n",
            "Epoch [85/100], Loss: 0.5442\n",
            "Epoch [90/100], Loss: 0.5389\n",
            "Epoch [95/100], Loss: 0.5338\n",
            "Epoch [100/100], Loss: 0.5288\n",
            "Optimal Threshold (Youden's J-Index): 0.4260\n",
            "\n",
            "Threshold: 0.43\n",
            "TP: 14, FP: 5, FN: 0, TN: 7\n"
          ]
        },
        {
          "output_type": "display_data",
          "data": {
            "text/plain": [
              "<Figure size 500x400 with 2 Axes>"
            ],
            "image/png": "[encoded data removed]"
          },
          "metadata": {}
        },
        {
          "output_type": "execute_result",
          "data": {
            "text/plain": [
              "<function matplotlib.pyplot.show(close=None, block=None)>"
            ],
            "text/html": [
              "<div style=\"max-width:800px; border: 1px solid var(--colab-border-color);\"><style>\n",
              "      pre.function-repr-contents {\n",
              "        overflow-x: auto;\n",
              "        padding: 8px 12px;\n",
              "        max-height: 500px;\n",
              "      }\n",
              "\n",
              "      pre.function-repr-contents.function-repr-contents-collapsed {\n",
              "        cursor: pointer;\n",
              "        max-height: 100px;\n",
              "      }\n",
              "    </style>\n",
              "    <pre style=\"white-space: initial; background:\n",
              "         var(--colab-secondary-surface-color); padding: 8px 12px;\n",
              "         border-bottom: 1px solid var(--colab-border-color);\"><b>matplotlib.pyplot.show</b><br/>def show(*args, **kwargs) -&gt; None</pre><pre class=\"function-repr-contents function-repr-contents-collapsed\" style=\"\"><a class=\"filepath\" style=\"display:none\" href=\"#\">/usr/local/lib/python3.11/dist-packages/matplotlib/pyplot.py</a>Display all open figures.\n",
              "\n",
              "Parameters\n",
              "----------\n",
              "block : bool, optional\n",
              "    Whether to wait for all figures to be closed before returning.\n",
              "\n",
              "    If `True` block and run the GUI main loop until all figure windows\n",
              "    are closed.\n",
              "\n",
              "    If `False` ensure that all figure windows are displayed and return\n",
              "    immediately.  In this case, you are responsible for ensuring\n",
              "    that the event loop is running to have responsive figures.\n",
              "\n",
              "    Defaults to True in non-interactive mode and to False in interactive\n",
              "    mode (see `.pyplot.isinteractive`).\n",
              "\n",
              "See Also\n",
              "--------\n",
              "ion : Enable interactive mode, which shows / updates the figure after\n",
              "      every plotting command, so that calling ``show()`` is not necessary.\n",
              "ioff : Disable interactive mode.\n",
              "savefig : Save the figure to an image file instead of showing it on screen.\n",
              "\n",
              "Notes\n",
              "-----\n",
              "**Saving figures to file and showing a window at the same time**\n",
              "\n",
              "If you want an image file as well as a user interface window, use\n",
              "`.pyplot.savefig` before `.pyplot.show`. At the end of (a blocking)\n",
              "``show()`` the figure is closed and thus unregistered from pyplot. Calling\n",
              "`.pyplot.savefig` afterwards would save a new and thus empty figure. This\n",
              "limitation of command order does not apply if the show is non-blocking or\n",
              "if you keep a reference to the figure and use `.Figure.savefig`.\n",
              "\n",
              "**Auto-show in jupyter notebooks**\n",
              "\n",
              "The jupyter backends (activated via ``%matplotlib inline``,\n",
              "``%matplotlib notebook``, or ``%matplotlib widget``), call ``show()`` at\n",
              "the end of every cell by default. Thus, you usually don&#x27;t have to call it\n",
              "explicitly there.</pre>\n",
              "      <script>\n",
              "      if (google.colab.kernel.accessAllowed && google.colab.files && google.colab.files.view) {\n",
              "        for (const element of document.querySelectorAll('.filepath')) {\n",
              "          element.style.display = 'block'\n",
              "          element.onclick = (event) => {\n",
              "            event.preventDefault();\n",
              "            event.stopPropagation();\n",
              "            google.colab.files.view(element.textContent, 569);\n",
              "          };\n",
              "        }\n",
              "      }\n",
              "      for (const element of document.querySelectorAll('.function-repr-contents')) {\n",
              "        element.onclick = (event) => {\n",
              "          event.preventDefault();\n",
              "          event.stopPropagation();\n",
              "          element.classList.toggle('function-repr-contents-collapsed');\n",
              "        };\n",
              "      }\n",
              "      </script>\n",
              "      </div>"
            ]
          },
          "metadata": {},
          "execution_count": 51
        },
        {
          "output_type": "display_data",
          "data": {
            "text/plain": [
              "<Figure size 600x500 with 1 Axes>"
            ],
            "image/png": "[encoded data removed]"
          },
          "metadata": {}
        }
      ]
    }
  ],
  "metadata": {
    "colab": {
      "provenance": [],
      "mount_file_id": "1lDTkX_QMpOfBTMqZ4UlRvH7sAOTiNU9Y",
      "authorship_tag": "ABX9TyN2kueAPrMAbYq2n6yQIQys",
      "include_colab_link": true
    },
    "kernelspec": {
      "display_name": "Python 3",
      "name": "python3"
    },
    "language_info": {
      "name": "python"
    }
  },
  "nbformat": 4,
  "nbformat_minor": 0
}