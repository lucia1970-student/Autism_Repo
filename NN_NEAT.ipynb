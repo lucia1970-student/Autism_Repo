{
 "cells": [
  {
   "cell_type": "code",
   "execution_count": null,
   "metadata": {
    "colab": {
     "base_uri": "https://localhost:8080/"
    },
    "executionInfo": {
     "elapsed": 688,
     "status": "ok",
     "timestamp": 1741510226345,
     "user": {
      "displayName": "Lucia Richardson",
      "userId": "14976025796608914509"
     },
     "user_tz": 180
    },
    "id": "9fQaW12GKCuu",
    "outputId": "8a4c02b3-7150-4276-fe12-b6296ea8d0a6"
   },
   "outputs": [],
   "source": [
    "from google.colab import drive\n",
    "drive.mount('/content/drive')"
   ]
  },
  {
   "cell_type": "code",
   "execution_count": null,
   "metadata": {
    "colab": {
     "base_uri": "https://localhost:8080/"
    },
    "executionInfo": {
     "elapsed": 18,
     "status": "ok",
     "timestamp": 1741510227841,
     "user": {
      "displayName": "Lucia Richardson",
      "userId": "14976025796608914509"
     },
     "user_tz": 180
    },
    "id": "6Fkig_FiMxaf",
    "outputId": "f9caf9c8-2676-4b6d-8f86-0f11cc15ba4c"
   },
   "outputs": [],
   "source": [
    "cd /content/drive/MyDrive/Colab\\ Notebooks/cours_python/FSCI2610/projet"
   ]
  },
  {
   "cell_type": "code",
   "execution_count": null,
   "metadata": {
    "colab": {
     "base_uri": "https://localhost:8080/"
    },
    "executionInfo": {
     "elapsed": 3030,
     "status": "ok",
     "timestamp": 1741510232048,
     "user": {
      "displayName": "Lucia Richardson",
      "userId": "14976025796608914509"
     },
     "user_tz": 180
    },
    "id": "HGoDKnEPNeS7",
    "outputId": "0cb03578-6021-436a-e4dd-36d335ba2391"
   },
   "outputs": [],
   "source": [
    "!pip install neat_python"
   ]
  },
  {
   "cell_type": "code",
   "execution_count": null,
   "metadata": {
    "colab": {
     "base_uri": "https://localhost:8080/"
    },
    "executionInfo": {
     "elapsed": 26519,
     "status": "ok",
     "timestamp": 1741518359482,
     "user": {
      "displayName": "Lucia Richardson",
      "userId": "14976025796608914509"
     },
     "user_tz": 180
    },
    "id": "4LAO_zu93KBH",
    "outputId": "6fb388db-751d-47dd-b66f-8c99bead4b72"
   },
   "outputs": [],
   "source": [
    "import neat\n",
    "import numpy as np\n",
    "import pandas as pd\n",
    "from sklearn.preprocessing import StandardScaler, LabelEncoder, LabelBinarizer\n",
    "from sklearn.model_selection import train_test_split\n",
    "from sklearn.metrics import roc_auc_score, classification_report, confusion_matrix\n",
    "\n",
    "# Load dataset\n",
    "df = pd.read_csv(\"voice_data.csv\")\n",
    "\n",
    "# Filter data to include only 'ASD' and 'CTRL' groups (where CTRL is the combination of 'IC' and 'SLI')\n",
    "df_filtered = df[(df['Group'] == 'ASD') | (df['Group'] == 'IC') | (df['Group'] == 'SLI')].copy()\n",
    "\n",
    "# Create a new target variable 'y' with binary labels:\n",
    "# 0 for 'CTRL' (combined 'IC' and 'SLI') and 1 for 'ASD'\n",
    "df_filtered['Group_Encoded'] = np.where(df_filtered['Group'] == 'ASD', 1, 0)  # 1 for ASD, 0 for CTRL\n",
    "\n",
    "y = df_filtered['Group_Encoded'].values\n",
    "X = df_filtered.iloc[:, 1:-1].values  # Features\n",
    "\n",
    "# Normalize features\n",
    "scaler = StandardScaler()\n",
    "X = scaler.fit_transform(X)\n",
    "\n",
    "# Split dataset into train & test sets\n",
    "X_train, X_test, y_train, y_test = train_test_split(X, y, test_size=0.3, random_state=42)\n",
    "\n",
    "le = LabelBinarizer()\n",
    "y_train = le.fit_transform(y_train) # Fit and transform training labels\n",
    "y_test = le.transform(y_test) # Transform test labels\n",
    "\n",
    "# Define the fitness function for NEAT\n",
    "def evaluate_genome(genomes, config):\n",
    "    \"\"\"Evaluate a list of genomes using ROC AUC for binary classification.\"\"\"\n",
    "    for genome_id, genome in genomes:\n",
    "        net = neat.nn.FeedForwardNetwork.create(genome, config)\n",
    "\n",
    "        # Predict on training set (get continuous predictions)\n",
    "        predictions = []\n",
    "        for i in range(len(X_train)):\n",
    "            output = net.activate(X_train[i])\n",
    "            predictions.append(output[0])  # Use raw output as continuous prediction\n",
    "\n",
    "        # Reshape predictions to a 2D array with a single column or 1D array\n",
    "        predictions = np.array(predictions).reshape(-1, 1)\n",
    "\n",
    "        # Compute ROC AUC and assign fitness\n",
    "        auc_score = roc_auc_score(y_train, predictions) # Remove multi_class for binary\n",
    "        genome.fitness = auc_score  # Fitness = ROC AUC score\n",
    "\n",
    "# NEAT Configuration\n",
    "def run_neat():\n",
    "    \"\"\"Runs NEAT to evolve a neural network for classification.\"\"\"\n",
    "    config_path = \"neat_config.txt\"  # Make sure you have this config file\n",
    "    config = neat.Config(neat.DefaultGenome, neat.DefaultReproduction,\n",
    "                         neat.DefaultSpeciesSet, neat.DefaultStagnation, config_path)\n",
    "\n",
    "    # Modify reproduction config to create a new species when extinction occurs\n",
    "    config.reproduction_config.species_elitism = 0  # Allow extinction\n",
    "    config.reproduction_config.elitism = 0  # Allow extinction of best individual\n",
    "    config.reproduction_config.min_species_size = 2  # Minimum species size to avoid extinction\n",
    "\n",
    "    # Increase population size to promote diversity\n",
    "    config.pop_size = 200  # Increased from default (usually 150)\n",
    "\n",
    "    population = neat.Population(config)\n",
    "    population.add_reporter(neat.StdOutReporter(True))\n",
    "\n",
    "    # Run NEAT evolution for 50 generations\n",
    "    winner = population.run(evaluate_genome, n=50)\n",
    "\n",
    "    # Print best genome\n",
    "    print(\"Best genome:\", winner)\n",
    "\n",
    "    # Evaluate the best network on test data\n",
    "    best_net = neat.nn.FeedForwardNetwork.create(winner, config)\n",
    "\n",
    "    # Get continuous predictions and reshape to 2D or 1D\n",
    "    predictions = [best_net.activate(x)[0] for x in X_test]\n",
    "    predictions = np.array(predictions).reshape(-1, 1) # Reshape to 2D\n",
    "\n",
    "    test_auc = roc_auc_score(y_test, predictions)\n",
    "    print(f\"Final test ROC AUC: {test_auc:.4f}\")\n",
    "\n",
    "    return predictions\n",
    "\n",
    "# Run NEAT evolution\n",
    "predictions = run_neat()\n",
    "\n",
    "# Apply threshold to get binary predictions\n",
    "predictions_binary = (predictions >= 0.5).astype(int).ravel()\n",
    "\n",
    "# Calculate and print classification metrics\n",
    "print(\"\\nClassification report: \\n\")\n",
    "print(classification_report(y_test, predictions_binary))\n",
    "\n",
    "cm = confusion_matrix(y_test, predictions_binary)\n",
    "print(\"\\nConfusion Matrix: \\n\")\n",
    "print(cm)"
   ]
  },
  {
   "cell_type": "code",
   "execution_count": 3,
   "metadata": {
    "colab": {
     "base_uri": "https://localhost:8080/",
     "height": 487
    },
    "executionInfo": {
     "elapsed": 269,
     "status": "ok",
     "timestamp": 1741518636841,
     "user": {
      "displayName": "Lucia Richardson",
      "userId": "14976025796608914509"
     },
     "user_tz": 180
    },
    "id": "SU2pozCBnB7g",
    "outputId": "bf728d83-09f0-4d61-faf8-5ae083011640"
   },
   "outputs": [
    {
     "data": {
      "image/png": "[encoded data removed]",
      "text/plain": [
       "<Figure size 600x500 with 2 Axes>"
      ]
     },
     "metadata": {},
     "output_type": "display_data"
    }
   ],
   "source": [
    "    import matplotlib.pyplot as plt\n",
    "    import seaborn as sns\n",
    "    from sklearn.metrics import confusion_matrix, classification_report\n",
    "\n",
    "    # Plot confusion matrix\n",
    "    plt.figure(figsize=(6, 5))\n",
    "    sns.heatmap(cm, annot=True, fmt=\"d\", cmap=\"Blues\", xticklabels=[\"Non-Autism\", \"Autism\"], yticklabels=[\"Non-Autism\", \"Autism\"])\n",
    "    plt.xlabel(\"Predicted\")\n",
    "    plt.ylabel(\"Actual\")\n",
    "    plt.title(\"Confusion Matrix\")\n",
    "    plt.show()\n"
   ]
  }
 ],
 "metadata": {
  "colab": {
   "authorship_tag": "ABX9TyNlUBJmJy0TP9stHXf4MOmU",
   "mount_file_id": "1s9OLsHy1KIkNstzvx4SSPLObBkpvy4Ht",
   "provenance": []
  },
  "kernelspec": {
   "display_name": "Python 3 (ipykernel)",
   "language": "python",
   "name": "python3"
  },
  "language_info": {
   "codemirror_mode": {
    "name": "ipython",
    "version": 3
   },
   "file_extension": ".py",
   "mimetype": "text/x-python",
   "name": "python",
   "nbconvert_exporter": "python",
   "pygments_lexer": "ipython3",
   "version": "3.12.1"
  }
 },
 "nbformat": 4,
 "nbformat_minor": 0
}
