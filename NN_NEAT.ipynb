{
  "nbformat": 4,
  "nbformat_minor": 0,
  "metadata": {
    "colab": {
      "provenance": [],
      "mount_file_id": "1s9OLsHy1KIkNstzvx4SSPLObBkpvy4Ht",
      "authorship_tag": "ABX9TyM8GKg64SkJEWTps3oshqQs",
      "include_colab_link": true
    },
    "kernelspec": {
      "name": "python3",
      "display_name": "Python 3"
    },
    "language_info": {
      "name": "python"
    }
  },
  "cells": [
    {
      "cell_type": "markdown",
      "metadata": {
        "id": "view-in-github",
        "colab_type": "text"
      },
      "source": [
        "<a href=\"https://colab.research.google.com/github/lucia1970-student/Autism_Repo/blob/main/NN_NEAT.ipynb\" target=\"_parent\"><img src=\"https://colab.research.google.com/assets/colab-badge.svg\" alt=\"Open In Colab\"/></a>"
      ]
    },
    {
      "cell_type": "code",
      "execution_count": 22,
      "metadata": {
        "colab": {
          "base_uri": "https://localhost:8080/"
        },
        "id": "9fQaW12GKCuu",
        "outputId": "656e9478-b1de-4296-8bf4-cdc792e4075c"
      },
      "outputs": [
        {
          "output_type": "stream",
          "name": "stdout",
          "text": [
            "Drive already mounted at /content/drive; to attempt to forcibly remount, call drive.mount(\"/content/drive\", force_remount=True).\n"
          ]
        }
      ],
      "source": [
        "from google.colab import drive\n",
        "drive.mount('/content/drive')"
      ]
    },
    {
      "cell_type": "code",
      "source": [
        "cd /content/drive/MyDrive/Colab\\ Notebooks/cours_python/FSCI2610/projet"
      ],
      "metadata": {
        "colab": {
          "base_uri": "https://localhost:8080/"
        },
        "id": "6Fkig_FiMxaf",
        "outputId": "1b20e49f-d4e8-4564-a5c2-8bdc2a11c0dd"
      },
      "execution_count": 23,
      "outputs": [
        {
          "output_type": "stream",
          "name": "stdout",
          "text": [
            "/content/drive/MyDrive/Colab Notebooks/cours_python/FSCI2610/projet\n"
          ]
        }
      ]
    },
    {
      "cell_type": "code",
      "source": [
        "!pip install neat_python"
      ],
      "metadata": {
        "colab": {
          "base_uri": "https://localhost:8080/"
        },
        "id": "HGoDKnEPNeS7",
        "outputId": "610bcaa9-8128-4917-e1ec-05065d578c64"
      },
      "execution_count": 25,
      "outputs": [
        {
          "output_type": "stream",
          "name": "stdout",
          "text": [
            "Requirement already satisfied: neat_python in /usr/local/lib/python3.11/dist-packages (0.92)\n"
          ]
        }
      ]
    },
    {
      "cell_type": "code",
      "source": [
        "import neat\n",
        "import numpy as np\n",
        "import pandas as pd\n",
        "from sklearn.preprocessing import StandardScaler, LabelEncoder, LabelBinarizer\n",
        "from sklearn.model_selection import train_test_split\n",
        "from sklearn.metrics import roc_auc_score, classification_report, confusion_matrix\n",
        "\n",
        "# Load dataset\n",
        "df = pd.read_csv(\"voice_data.csv\")\n",
        "\n",
        "# Filter data to include only 'ASD' and 'CTRL' groups (where CTRL is the combination of 'IC' and 'SLI')\n",
        "df_filtered = df[(df['Group'] == 'ASD') | (df['Group'] == 'IC') | (df['Group'] == 'SLI')].copy()\n",
        "\n",
        "# Create a new target variable 'y' with binary labels:\n",
        "# 0 for 'CTRL' (combined 'IC' and 'SLI') and 1 for 'ASD'\n",
        "df_filtered['Group_Encoded'] = np.where(df_filtered['Group'] == 'ASD', 1, 0)  # 1 for ASD, 0 for CTRL\n",
        "\n",
        "y = df_filtered['Group_Encoded'].values\n",
        "X = df_filtered.loc[:, [\"avg_F1\", \"jitter_s\", \"shimmer\", \"mean_hnr\"]].values  # Features\n",
        "\n",
        "# Normalize features\n",
        "scaler = StandardScaler()\n",
        "X = scaler.fit_transform(X)\n",
        "\n",
        "# Split dataset into train & test sets\n",
        "X_train, X_test, y_train, y_test = train_test_split(X, y, test_size=0.3, random_state=42)\n",
        "\n",
        "le = LabelBinarizer()\n",
        "y_train = le.fit_transform(y_train) # Fit and transform training labels\n",
        "y_test = le.transform(y_test) # Transform test labels\n",
        "\n",
        "# Define the fitness function for NEAT\n",
        "def evaluate_genome(genomes, config):\n",
        "    \"\"\"Evaluate a list of genomes using ROC AUC for binary classification.\"\"\"\n",
        "    for genome_id, genome in genomes:\n",
        "        net = neat.nn.FeedForwardNetwork.create(genome, config)\n",
        "\n",
        "        # Predict on training set (get continuous predictions)\n",
        "        predictions = []\n",
        "        for i in range(len(X_train)):\n",
        "            output = net.activate(X_train[i])\n",
        "            predictions.append(output[0])  # Use raw output as continuous prediction\n",
        "\n",
        "        # Reshape predictions to a 2D array with a single column or 1D array\n",
        "        predictions = np.array(predictions).reshape(-1, 1)\n",
        "\n",
        "        # Compute ROC AUC and assign fitness\n",
        "        auc_score = roc_auc_score(y_train, predictions) # Remove multi_class for binary\n",
        "        genome.fitness = auc_score  # Fitness = ROC AUC score\n",
        "\n",
        "# NEAT Configuration\n",
        "def run_neat():\n",
        "    \"\"\"Runs NEAT to evolve a neural network for classification.\"\"\"\n",
        "    config_path = \"neat_config.txt\"  # Make sure you have this config file\n",
        "    config = neat.Config(neat.DefaultGenome, neat.DefaultReproduction,\n",
        "                         neat.DefaultSpeciesSet, neat.DefaultStagnation, config_path)\n",
        "\n",
        "    # Modify reproduction config to create a new species when extinction occurs\n",
        "    config.reproduction_config.species_elitism = 0  # Allow extinction\n",
        "    config.reproduction_config.elitism = 0  # Allow extinction of best individual\n",
        "    config.reproduction_config.min_species_size = 2  # Minimum species size to avoid extinction\n",
        "\n",
        "    # Increase population size to promote diversity\n",
        "    config.pop_size = 200  # Increased from default (usually 150)\n",
        "\n",
        "    population = neat.Population(config)\n",
        "    population.add_reporter(neat.StdOutReporter(True))\n",
        "\n",
        "    # Run NEAT evolution generations\n",
        "    winner = population.run(evaluate_genome, n=200)\n",
        "\n",
        "    # Print best genome\n",
        "    print(\"Best genome:\", winner)\n",
        "\n",
        "    # Evaluate the best network on test data\n",
        "    best_net = neat.nn.FeedForwardNetwork.create(winner, config)\n",
        "\n",
        "    # Get continuous predictions and reshape to 2D or 1D\n",
        "    predictions = [best_net.activate(x)[0] for x in X_test]\n",
        "    predictions = np.array(predictions).reshape(-1, 1) # Reshape to 2D\n",
        "\n",
        "    test_auc = roc_auc_score(y_test, predictions)\n",
        "    print(f\"Final test ROC AUC: {test_auc:.4f}\")\n",
        "\n",
        "    return predictions\n",
        "\n",
        "# Run NEAT evolution\n",
        "predictions = run_neat()\n",
        "\n",
        "# Apply threshold to get binary predictions\n",
        "predictions_binary = (predictions >= 0.5).astype(int).ravel()\n",
        "\n",
        "# Calculate and print classification metrics\n",
        "print(\"\\nClassification report: \\n\")\n",
        "print(classification_report(y_test, predictions_binary))\n",
        "\n",
        "cm = confusion_matrix(y_test, predictions_binary)\n",
        "print(\"\\nConfusion Matrix: \\n\")\n",
        "print(cm)"
      ],
      "metadata": {
        "id": "4LAO_zu93KBH"
      },
      "execution_count": null,
      "outputs": []
    },
    {
      "cell_type": "code",
      "source": [
        "    import matplotlib.pyplot as plt\n",
        "    import seaborn as sns\n",
        "    from sklearn.metrics import confusion_matrix, classification_report\n",
        "\n",
        "    # Plot confusion matrix\n",
        "    plt.figure(figsize=(6, 5))\n",
        "    sns.heatmap(cm, annot=True, fmt=\"d\", cmap=\"Blues\", xticklabels=[\"Non-Autism\", \"Autism\"], yticklabels=[\"Non-Autism\", \"Autism\"])\n",
        "    plt.xlabel(\"Predicted\")\n",
        "    plt.ylabel(\"Actual\")\n",
        "    plt.title(\"Confusion Matrix\")\n",
        "    plt.show()\n"
      ],
      "metadata": {
        "colab": {
          "base_uri": "https://localhost:8080/",
          "height": 487
        },
        "id": "SU2pozCBnB7g",
        "outputId": "a1788e1a-2124-4588-a9e7-08092afcb5ed"
      },
      "execution_count": 35,
      "outputs": [
        {
          "output_type": "display_data",
          "data": {
            "text/plain": [
              "<Figure size 600x500 with 2 Axes>"
            ],
            "image/png": "[encoded data removed]"
          },
          "metadata": {}
        }
      ]
    }
  ]
}